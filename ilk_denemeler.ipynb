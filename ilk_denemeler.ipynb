{
 "cells": [
  {
   "cell_type": "code",
   "execution_count": 4,
   "metadata": {},
   "outputs": [],
   "source": [
    "from urllib.request import urlretrieve\n",
    "import os\n",
    "\n",
    "pretreined_model_name = \"resnet50_coco_best_v2.1.0.h5\"\n",
    "backbone_name = \"resnet50\"\n",
    "pretrained_base_url = (\"https://github.com/fizyr/keras-retinanet/releases/download/0.5.1/\")\n",
    "\n",
    "if not os.path.exists(pretreined_model_name):\n",
    "  model_url = pretrained_base_url + pretreined_model_name\n",
    "  print(f\"Downloading {model_url}...\")\n",
    "  urlretrieve(model_url, pretreined_model_name)\n",
    "  print(\"done.\")"
   ]
  },
  {
   "cell_type": "code",
   "execution_count": 6,
   "metadata": {},
   "outputs": [
    {
     "name": "stdout",
     "output_type": "stream",
     "text": [
      "c:\\Users\\kubra\\OneDrive\\Masaüstü\\Obje_Tanıma\\ilk_denemeler\\keras-retinanet\n"
     ]
    },
    {
     "name": "stderr",
     "output_type": "stream",
     "text": [
      "C:\\Users\\kubra\\AppData\\Roaming\\Python\\Python312\\site-packages\\IPython\\core\\magics\\osm.py:417: UserWarning: This is now an optional IPython functionality, setting dhist requires you to install the `pickleshare` library.\n",
      "  self.shell.db['dhist'] = compress_dhist(dhist)[-100:]\n"
     ]
    },
    {
     "name": "stdout",
     "output_type": "stream",
     "text": [
      "Processing c:\\users\\kubra\\onedrive\\masaüstü\\obje_tanıma\\ilk_denemeler\\keras-retinanet\n",
      "  Preparing metadata (setup.py): started\n",
      "  Preparing metadata (setup.py): finished with status 'done'\n",
      "Requirement already satisfied: keras-resnet==0.2.0 in c:\\users\\kubra\\appdata\\local\\programs\\python\\python312\\lib\\site-packages (from keras-retinanet==1.0.0) (0.2.0)\n",
      "Requirement already satisfied: six in c:\\users\\kubra\\appdata\\local\\programs\\python\\python312\\lib\\site-packages (from keras-retinanet==1.0.0) (1.16.0)\n",
      "Requirement already satisfied: numpy in c:\\users\\kubra\\appdata\\local\\programs\\python\\python312\\lib\\site-packages (from keras-retinanet==1.0.0) (1.26.4)\n",
      "Collecting cython (from keras-retinanet==1.0.0)\n",
      "  Using cached Cython-3.0.10-cp312-cp312-win_amd64.whl.metadata (3.2 kB)\n",
      "Requirement already satisfied: Pillow in c:\\users\\kubra\\appdata\\local\\programs\\python\\python312\\lib\\site-packages (from keras-retinanet==1.0.0) (10.2.0)\n",
      "Requirement already satisfied: opencv-python in c:\\users\\kubra\\appdata\\local\\programs\\python\\python312\\lib\\site-packages (from keras-retinanet==1.0.0) (4.9.0.80)\n",
      "Collecting progressbar2 (from keras-retinanet==1.0.0)\n",
      "  Using cached progressbar2-4.4.2-py3-none-any.whl.metadata (17 kB)\n",
      "Requirement already satisfied: keras>=2.2.4 in c:\\users\\kubra\\appdata\\local\\programs\\python\\python312\\lib\\site-packages (from keras-resnet==0.2.0->keras-retinanet==1.0.0) (3.3.3)\n",
      "Collecting python-utils>=3.8.1 (from progressbar2->keras-retinanet==1.0.0)\n",
      "  Using cached python_utils-3.8.2-py2.py3-none-any.whl.metadata (9.7 kB)\n",
      "Requirement already satisfied: absl-py in c:\\users\\kubra\\appdata\\local\\programs\\python\\python312\\lib\\site-packages (from keras>=2.2.4->keras-resnet==0.2.0->keras-retinanet==1.0.0) (2.1.0)\n",
      "Requirement already satisfied: rich in c:\\users\\kubra\\appdata\\local\\programs\\python\\python312\\lib\\site-packages (from keras>=2.2.4->keras-resnet==0.2.0->keras-retinanet==1.0.0) (13.7.1)\n",
      "Requirement already satisfied: namex in c:\\users\\kubra\\appdata\\local\\programs\\python\\python312\\lib\\site-packages (from keras>=2.2.4->keras-resnet==0.2.0->keras-retinanet==1.0.0) (0.0.8)\n",
      "Requirement already satisfied: h5py in c:\\users\\kubra\\appdata\\local\\programs\\python\\python312\\lib\\site-packages (from keras>=2.2.4->keras-resnet==0.2.0->keras-retinanet==1.0.0) (3.11.0)\n",
      "Requirement already satisfied: optree in c:\\users\\kubra\\appdata\\local\\programs\\python\\python312\\lib\\site-packages (from keras>=2.2.4->keras-resnet==0.2.0->keras-retinanet==1.0.0) (0.11.0)\n",
      "Requirement already satisfied: ml-dtypes in c:\\users\\kubra\\appdata\\local\\programs\\python\\python312\\lib\\site-packages (from keras>=2.2.4->keras-resnet==0.2.0->keras-retinanet==1.0.0) (0.3.2)\n",
      "Requirement already satisfied: typing-extensions>3.10.0.2 in c:\\users\\kubra\\appdata\\local\\programs\\python\\python312\\lib\\site-packages (from python-utils>=3.8.1->progressbar2->keras-retinanet==1.0.0) (4.9.0)\n",
      "Requirement already satisfied: markdown-it-py>=2.2.0 in c:\\users\\kubra\\appdata\\local\\programs\\python\\python312\\lib\\site-packages (from rich->keras>=2.2.4->keras-resnet==0.2.0->keras-retinanet==1.0.0) (3.0.0)\n",
      "Requirement already satisfied: pygments<3.0.0,>=2.13.0 in c:\\users\\kubra\\appdata\\roaming\\python\\python312\\site-packages (from rich->keras>=2.2.4->keras-resnet==0.2.0->keras-retinanet==1.0.0) (2.17.2)\n",
      "Requirement already satisfied: mdurl~=0.1 in c:\\users\\kubra\\appdata\\local\\programs\\python\\python312\\lib\\site-packages (from markdown-it-py>=2.2.0->rich->keras>=2.2.4->keras-resnet==0.2.0->keras-retinanet==1.0.0) (0.1.2)\n",
      "Using cached Cython-3.0.10-cp312-cp312-win_amd64.whl (2.8 MB)\n",
      "Using cached progressbar2-4.4.2-py3-none-any.whl (56 kB)\n",
      "Using cached python_utils-3.8.2-py2.py3-none-any.whl (27 kB)\n",
      "Building wheels for collected packages: keras-retinanet\n",
      "  Building wheel for keras-retinanet (setup.py): started\n",
      "  Building wheel for keras-retinanet (setup.py): finished with status 'error'\n",
      "  Running setup.py clean for keras-retinanet\n",
      "Failed to build keras-retinanet\n"
     ]
    },
    {
     "name": "stderr",
     "output_type": "stream",
     "text": [
      "  error: subprocess-exited-with-error\n",
      "  \n",
      "  × python setup.py bdist_wheel did not run successfully.\n",
      "  │ exit code: 1\n",
      "  ╰─> [141 lines of output]\n",
      "      C:\\Users\\kubra\\AppData\\Local\\Programs\\Python\\Python312\\Lib\\site-packages\\setuptools\\__init__.py:81: _DeprecatedInstaller: setuptools.installer and fetch_build_eggs are deprecated.\n",
      "      !!\n",
      "      \n",
      "              ********************************************************************************\n",
      "              Requirements should be satisfied by a PEP 517 installer.\n",
      "              If you are using pip, you can try `pip install --use-pep517`.\n",
      "              ********************************************************************************\n",
      "      \n",
      "      !!\n",
      "        dist.fetch_build_eggs(dist.setup_requires)\n",
      "      running bdist_wheel\n",
      "      running build\n",
      "      running build_py\n",
      "      creating build\n",
      "      creating build\\lib.win-amd64-cpython-312\n",
      "      creating build\\lib.win-amd64-cpython-312\\backend\n",
      "      copying backend\\backend.py -> build\\lib.win-amd64-cpython-312\\backend\n",
      "      copying backend\\__init__.py -> build\\lib.win-amd64-cpython-312\\backend\n",
      "      creating build\\lib.win-amd64-cpython-312\\bin\n",
      "      copying bin\\convert_model.py -> build\\lib.win-amd64-cpython-312\\bin\n",
      "      copying bin\\debug.py -> build\\lib.win-amd64-cpython-312\\bin\n",
      "      copying bin\\evaluate.py -> build\\lib.win-amd64-cpython-312\\bin\n",
      "      copying bin\\train.py -> build\\lib.win-amd64-cpython-312\\bin\n",
      "      copying bin\\__init__.py -> build\\lib.win-amd64-cpython-312\\bin\n",
      "      creating build\\lib.win-amd64-cpython-312\\callbacks\n",
      "      copying callbacks\\coco.py -> build\\lib.win-amd64-cpython-312\\callbacks\n",
      "      copying callbacks\\common.py -> build\\lib.win-amd64-cpython-312\\callbacks\n",
      "      copying callbacks\\eval.py -> build\\lib.win-amd64-cpython-312\\callbacks\n",
      "      copying callbacks\\__init__.py -> build\\lib.win-amd64-cpython-312\\callbacks\n",
      "      creating build\\lib.win-amd64-cpython-312\\keras_retinanet\n",
      "      copying keras_retinanet\\initializers.py -> build\\lib.win-amd64-cpython-312\\keras_retinanet\n",
      "      copying keras_retinanet\\losses.py -> build\\lib.win-amd64-cpython-312\\keras_retinanet\n",
      "      copying keras_retinanet\\__init__.py -> build\\lib.win-amd64-cpython-312\\keras_retinanet\n",
      "      creating build\\lib.win-amd64-cpython-312\\layers\n",
      "      copying layers\\filter_detections.py -> build\\lib.win-amd64-cpython-312\\layers\n",
      "      copying layers\\_misc.py -> build\\lib.win-amd64-cpython-312\\layers\n",
      "      copying layers\\__init__.py -> build\\lib.win-amd64-cpython-312\\layers\n",
      "      creating build\\lib.win-amd64-cpython-312\\models\n",
      "      copying models\\densenet.py -> build\\lib.win-amd64-cpython-312\\models\n",
      "      copying models\\effnet.py -> build\\lib.win-amd64-cpython-312\\models\n",
      "      copying models\\mobilenet.py -> build\\lib.win-amd64-cpython-312\\models\n",
      "      copying models\\resnet.py -> build\\lib.win-amd64-cpython-312\\models\n",
      "      copying models\\retinanet.py -> build\\lib.win-amd64-cpython-312\\models\n",
      "      copying models\\senet.py -> build\\lib.win-amd64-cpython-312\\models\n",
      "      copying models\\vgg.py -> build\\lib.win-amd64-cpython-312\\models\n",
      "      copying models\\__init__.py -> build\\lib.win-amd64-cpython-312\\models\n",
      "      creating build\\lib.win-amd64-cpython-312\\preprocessing\n",
      "      copying preprocessing\\coco.py -> build\\lib.win-amd64-cpython-312\\preprocessing\n",
      "      copying preprocessing\\csv_generator.py -> build\\lib.win-amd64-cpython-312\\preprocessing\n",
      "      copying preprocessing\\generator.py -> build\\lib.win-amd64-cpython-312\\preprocessing\n",
      "      copying preprocessing\\kitti.py -> build\\lib.win-amd64-cpython-312\\preprocessing\n",
      "      copying preprocessing\\open_images.py -> build\\lib.win-amd64-cpython-312\\preprocessing\n",
      "      copying preprocessing\\pascal_voc.py -> build\\lib.win-amd64-cpython-312\\preprocessing\n",
      "      copying preprocessing\\__init__.py -> build\\lib.win-amd64-cpython-312\\preprocessing\n",
      "      creating build\\lib.win-amd64-cpython-312\\tests\n",
      "      copying tests\\test_losses.py -> build\\lib.win-amd64-cpython-312\\tests\n",
      "      copying tests\\__init__.py -> build\\lib.win-amd64-cpython-312\\tests\n",
      "      creating build\\lib.win-amd64-cpython-312\\utils\n",
      "      copying utils\\anchors.py -> build\\lib.win-amd64-cpython-312\\utils\n",
      "      copying utils\\coco_eval.py -> build\\lib.win-amd64-cpython-312\\utils\n",
      "      copying utils\\colors.py -> build\\lib.win-amd64-cpython-312\\utils\n",
      "      copying utils\\config.py -> build\\lib.win-amd64-cpython-312\\utils\n",
      "      copying utils\\eval.py -> build\\lib.win-amd64-cpython-312\\utils\n",
      "      copying utils\\gpu.py -> build\\lib.win-amd64-cpython-312\\utils\n",
      "      copying utils\\image.py -> build\\lib.win-amd64-cpython-312\\utils\n",
      "      copying utils\\model.py -> build\\lib.win-amd64-cpython-312\\utils\n",
      "      copying utils\\tf_version.py -> build\\lib.win-amd64-cpython-312\\utils\n",
      "      copying utils\\transform.py -> build\\lib.win-amd64-cpython-312\\utils\n",
      "      copying utils\\visualization.py -> build\\lib.win-amd64-cpython-312\\utils\n",
      "      copying utils\\__init__.py -> build\\lib.win-amd64-cpython-312\\utils\n",
      "      creating build\\lib.win-amd64-cpython-312\\keras_retinanet\\backend\n",
      "      copying keras_retinanet\\backend\\backend.py -> build\\lib.win-amd64-cpython-312\\keras_retinanet\\backend\n",
      "      copying keras_retinanet\\backend\\__init__.py -> build\\lib.win-amd64-cpython-312\\keras_retinanet\\backend\n",
      "      creating build\\lib.win-amd64-cpython-312\\keras_retinanet\\bin\n",
      "      copying keras_retinanet\\bin\\convert_model.py -> build\\lib.win-amd64-cpython-312\\keras_retinanet\\bin\n",
      "      copying keras_retinanet\\bin\\debug.py -> build\\lib.win-amd64-cpython-312\\keras_retinanet\\bin\n",
      "      copying keras_retinanet\\bin\\evaluate.py -> build\\lib.win-amd64-cpython-312\\keras_retinanet\\bin\n",
      "      copying keras_retinanet\\bin\\train.py -> build\\lib.win-amd64-cpython-312\\keras_retinanet\\bin\n",
      "      copying keras_retinanet\\bin\\__init__.py -> build\\lib.win-amd64-cpython-312\\keras_retinanet\\bin\n",
      "      creating build\\lib.win-amd64-cpython-312\\keras_retinanet\\callbacks\n",
      "      copying keras_retinanet\\callbacks\\coco.py -> build\\lib.win-amd64-cpython-312\\keras_retinanet\\callbacks\n",
      "      copying keras_retinanet\\callbacks\\common.py -> build\\lib.win-amd64-cpython-312\\keras_retinanet\\callbacks\n",
      "      copying keras_retinanet\\callbacks\\eval.py -> build\\lib.win-amd64-cpython-312\\keras_retinanet\\callbacks\n",
      "      copying keras_retinanet\\callbacks\\__init__.py -> build\\lib.win-amd64-cpython-312\\keras_retinanet\\callbacks\n",
      "      creating build\\lib.win-amd64-cpython-312\\keras_retinanet\\layers\n",
      "      copying keras_retinanet\\layers\\filter_detections.py -> build\\lib.win-amd64-cpython-312\\keras_retinanet\\layers\n",
      "      copying keras_retinanet\\layers\\_misc.py -> build\\lib.win-amd64-cpython-312\\keras_retinanet\\layers\n",
      "      copying keras_retinanet\\layers\\__init__.py -> build\\lib.win-amd64-cpython-312\\keras_retinanet\\layers\n",
      "      creating build\\lib.win-amd64-cpython-312\\keras_retinanet\\models\n",
      "      copying keras_retinanet\\models\\densenet.py -> build\\lib.win-amd64-cpython-312\\keras_retinanet\\models\n",
      "      copying keras_retinanet\\models\\effnet.py -> build\\lib.win-amd64-cpython-312\\keras_retinanet\\models\n",
      "      copying keras_retinanet\\models\\mobilenet.py -> build\\lib.win-amd64-cpython-312\\keras_retinanet\\models\n",
      "      copying keras_retinanet\\models\\resnet.py -> build\\lib.win-amd64-cpython-312\\keras_retinanet\\models\n",
      "      copying keras_retinanet\\models\\retinanet.py -> build\\lib.win-amd64-cpython-312\\keras_retinanet\\models\n",
      "      copying keras_retinanet\\models\\senet.py -> build\\lib.win-amd64-cpython-312\\keras_retinanet\\models\n",
      "      copying keras_retinanet\\models\\vgg.py -> build\\lib.win-amd64-cpython-312\\keras_retinanet\\models\n",
      "      copying keras_retinanet\\models\\__init__.py -> build\\lib.win-amd64-cpython-312\\keras_retinanet\\models\n",
      "      creating build\\lib.win-amd64-cpython-312\\keras_retinanet\\preprocessing\n",
      "      copying keras_retinanet\\preprocessing\\coco.py -> build\\lib.win-amd64-cpython-312\\keras_retinanet\\preprocessing\n",
      "      copying keras_retinanet\\preprocessing\\csv_generator.py -> build\\lib.win-amd64-cpython-312\\keras_retinanet\\preprocessing\n",
      "      copying keras_retinanet\\preprocessing\\generator.py -> build\\lib.win-amd64-cpython-312\\keras_retinanet\\preprocessing\n",
      "      copying keras_retinanet\\preprocessing\\kitti.py -> build\\lib.win-amd64-cpython-312\\keras_retinanet\\preprocessing\n",
      "      copying keras_retinanet\\preprocessing\\open_images.py -> build\\lib.win-amd64-cpython-312\\keras_retinanet\\preprocessing\n",
      "      copying keras_retinanet\\preprocessing\\pascal_voc.py -> build\\lib.win-amd64-cpython-312\\keras_retinanet\\preprocessing\n",
      "      copying keras_retinanet\\preprocessing\\__init__.py -> build\\lib.win-amd64-cpython-312\\keras_retinanet\\preprocessing\n",
      "      creating build\\lib.win-amd64-cpython-312\\keras_retinanet\\utils\n",
      "      copying keras_retinanet\\utils\\anchors.py -> build\\lib.win-amd64-cpython-312\\keras_retinanet\\utils\n",
      "      copying keras_retinanet\\utils\\coco_eval.py -> build\\lib.win-amd64-cpython-312\\keras_retinanet\\utils\n",
      "      copying keras_retinanet\\utils\\colors.py -> build\\lib.win-amd64-cpython-312\\keras_retinanet\\utils\n",
      "      copying keras_retinanet\\utils\\config.py -> build\\lib.win-amd64-cpython-312\\keras_retinanet\\utils\n",
      "      copying keras_retinanet\\utils\\eval.py -> build\\lib.win-amd64-cpython-312\\keras_retinanet\\utils\n",
      "      copying keras_retinanet\\utils\\gpu.py -> build\\lib.win-amd64-cpython-312\\keras_retinanet\\utils\n",
      "      copying keras_retinanet\\utils\\image.py -> build\\lib.win-amd64-cpython-312\\keras_retinanet\\utils\n",
      "      copying keras_retinanet\\utils\\model.py -> build\\lib.win-amd64-cpython-312\\keras_retinanet\\utils\n",
      "      copying keras_retinanet\\utils\\tf_version.py -> build\\lib.win-amd64-cpython-312\\keras_retinanet\\utils\n",
      "      copying keras_retinanet\\utils\\transform.py -> build\\lib.win-amd64-cpython-312\\keras_retinanet\\utils\n",
      "      copying keras_retinanet\\utils\\visualization.py -> build\\lib.win-amd64-cpython-312\\keras_retinanet\\utils\n",
      "      copying keras_retinanet\\utils\\__init__.py -> build\\lib.win-amd64-cpython-312\\keras_retinanet\\utils\n",
      "      creating build\\lib.win-amd64-cpython-312\\tests\\backend\n",
      "      copying tests\\backend\\test_common.py -> build\\lib.win-amd64-cpython-312\\tests\\backend\n",
      "      copying tests\\backend\\__init__.py -> build\\lib.win-amd64-cpython-312\\tests\\backend\n",
      "      creating build\\lib.win-amd64-cpython-312\\tests\\layers\n",
      "      copying tests\\layers\\test_filter_detections.py -> build\\lib.win-amd64-cpython-312\\tests\\layers\n",
      "      copying tests\\layers\\test_misc.py -> build\\lib.win-amd64-cpython-312\\tests\\layers\n",
      "      copying tests\\layers\\__init__.py -> build\\lib.win-amd64-cpython-312\\tests\\layers\n",
      "      creating build\\lib.win-amd64-cpython-312\\tests\\models\n",
      "      copying tests\\models\\test_densenet.py -> build\\lib.win-amd64-cpython-312\\tests\\models\n",
      "      copying tests\\models\\test_mobilenet.py -> build\\lib.win-amd64-cpython-312\\tests\\models\n",
      "      copying tests\\models\\__init__.py -> build\\lib.win-amd64-cpython-312\\tests\\models\n",
      "      creating build\\lib.win-amd64-cpython-312\\tests\\preprocessing\n",
      "      copying tests\\preprocessing\\test_csv_generator.py -> build\\lib.win-amd64-cpython-312\\tests\\preprocessing\n",
      "      copying tests\\preprocessing\\test_generator.py -> build\\lib.win-amd64-cpython-312\\tests\\preprocessing\n",
      "      copying tests\\preprocessing\\test_image.py -> build\\lib.win-amd64-cpython-312\\tests\\preprocessing\n",
      "      copying tests\\preprocessing\\__init__.py -> build\\lib.win-amd64-cpython-312\\tests\\preprocessing\n",
      "      creating build\\lib.win-amd64-cpython-312\\tests\\utils\n",
      "      copying tests\\utils\\test_anchors.py -> build\\lib.win-amd64-cpython-312\\tests\\utils\n",
      "      copying tests\\utils\\test_transform.py -> build\\lib.win-amd64-cpython-312\\tests\\utils\n",
      "      copying tests\\utils\\__init__.py -> build\\lib.win-amd64-cpython-312\\tests\\utils\n",
      "      running build_ext\n",
      "      building 'keras_retinanet.utils.compute_overlap' extension\n",
      "      error: Microsoft Visual C++ 14.0 or greater is required. Get it with \"Microsoft C++ Build Tools\": https://visualstudio.microsoft.com/visual-cpp-build-tools/\n",
      "      [end of output]\n",
      "  \n",
      "  note: This error originates from a subprocess, and is likely not a problem with pip.\n",
      "  ERROR: Failed building wheel for keras-retinanet\n",
      "ERROR: Could not build wheels for keras-retinanet, which is required to install pyproject.toml-based projects\n"
     ]
    },
    {
     "name": "stdout",
     "output_type": "stream",
     "text": [
      "running build_ext\n",
      "building 'keras_retinanet.utils.compute_overlap' extension\n"
     ]
    },
    {
     "name": "stderr",
     "output_type": "stream",
     "text": [
      "c:\\Users\\kubra\\AppData\\Local\\Programs\\Python\\Python312\\Lib\\site-packages\\setuptools\\__init__.py:81: _DeprecatedInstaller: setuptools.installer and fetch_build_eggs are deprecated.\n",
      "!!\n",
      "\n",
      "        ********************************************************************************\n",
      "        Requirements should be satisfied by a PEP 517 installer.\n",
      "        If you are using pip, you can try `pip install --use-pep517`.\n",
      "        ********************************************************************************\n",
      "\n",
      "!!\n",
      "  dist.fetch_build_eggs(dist.setup_requires)\n",
      "error: Microsoft Visual C++ 14.0 or greater is required. Get it with \"Microsoft C++ Build Tools\": https://visualstudio.microsoft.com/visual-cpp-build-tools/\n"
     ]
    }
   ],
   "source": [
    "%cd keras-retinanet/\n",
    "!pip install .\n",
    "!python setup.py build_ext --inplace"
   ]
  },
  {
   "cell_type": "code",
   "execution_count": 7,
   "metadata": {},
   "outputs": [
    {
     "data": {
      "text/plain": [
       "'\\nfrom keras_retinanet.keras_retinanet import models\\nfrom keras_retinanet.keras_retinanet.utils.image import preprocess_image, resize_image\\nfrom keras_retinanet.keras_retinanet.utils.visualization import draw_box, draw_caption # type: ignore\\nfrom keras_retinanet.keras_retinanet.utils.colors import label_color\\n'"
      ]
     },
     "execution_count": 7,
     "metadata": {},
     "output_type": "execute_result"
    }
   ],
   "source": [
    "import numpy as np\n",
    "import matplotlib.pyplot as plt\n",
    "import requests\n",
    "import urllib\n",
    "import os\n",
    "from PIL import Image\n",
    "\n",
    "from keras_retinanet import models\n",
    "from keras_retinanet.utils.image import preprocess_image, resize_image\n",
    "from keras_retinanet.utils.visualization import draw_box, draw_caption # type: ignore\n",
    "from keras_retinanet.utils.colors import label_color\n",
    "\n",
    "\n",
    "\"\"\"\n",
    "from keras_retinanet.keras_retinanet import models\n",
    "from keras_retinanet.keras_retinanet.utils.image import preprocess_image, resize_image\n",
    "from keras_retinanet.keras_retinanet.utils.visualization import draw_box, draw_caption # type: ignore\n",
    "from keras_retinanet.keras_retinanet.utils.colors import label_color\n",
    "\"\"\""
   ]
  },
  {
   "cell_type": "code",
   "execution_count": 8,
   "metadata": {},
   "outputs": [
    {
     "ename": "ModuleNotFoundError",
     "evalue": "No module named 'keras_retinanet.utils.compute_overlap'",
     "output_type": "error",
     "traceback": [
      "\u001b[1;31m---------------------------------------------------------------------------\u001b[0m",
      "\u001b[1;31mModuleNotFoundError\u001b[0m                       Traceback (most recent call last)",
      "Cell \u001b[1;32mIn[8], line 3\u001b[0m\n\u001b[0;32m      1\u001b[0m \u001b[38;5;28;01mfrom\u001b[39;00m \u001b[38;5;21;01mkeras_retinanet\u001b[39;00m \u001b[38;5;28;01mimport\u001b[39;00m models\n\u001b[1;32m----> 3\u001b[0m model \u001b[38;5;241m=\u001b[39m \u001b[43mmodels\u001b[49m\u001b[38;5;241;43m.\u001b[39;49m\u001b[43mload_model\u001b[49m\u001b[43m(\u001b[49m\u001b[43mpretreined_model_name\u001b[49m\u001b[43m,\u001b[49m\u001b[43mbackbone_name\u001b[49m\u001b[38;5;241;43m=\u001b[39;49m\u001b[43m \u001b[49m\u001b[43mbackbone_name\u001b[49m\u001b[43m)\u001b[49m\n",
      "File \u001b[1;32mc:\\Users\\kubra\\OneDrive\\Masaüstü\\Obje_Tanıma\\ilk_denemeler\\keras-retinanet\\keras_retinanet\\models\\__init__.py:87\u001b[0m, in \u001b[0;36mload_model\u001b[1;34m(filepath, backbone_name)\u001b[0m\n\u001b[0;32m     71\u001b[0m \u001b[38;5;250m\u001b[39m\u001b[38;5;124;03m\"\"\" Loads a retinanet model using the correct custom objects.\u001b[39;00m\n\u001b[0;32m     72\u001b[0m \n\u001b[0;32m     73\u001b[0m \u001b[38;5;124;03mArgs\u001b[39;00m\n\u001b[1;32m   (...)\u001b[0m\n\u001b[0;32m     84\u001b[0m \u001b[38;5;124;03m    ValueError: In case of an invalid savefile.\u001b[39;00m\n\u001b[0;32m     85\u001b[0m \u001b[38;5;124;03m\"\"\"\u001b[39;00m\n\u001b[0;32m     86\u001b[0m \u001b[38;5;28;01mfrom\u001b[39;00m \u001b[38;5;21;01mtensorflow\u001b[39;00m \u001b[38;5;28;01mimport\u001b[39;00m keras\n\u001b[1;32m---> 87\u001b[0m \u001b[38;5;28;01mreturn\u001b[39;00m keras\u001b[38;5;241m.\u001b[39mmodels\u001b[38;5;241m.\u001b[39mload_model(filepath, custom_objects\u001b[38;5;241m=\u001b[39m\u001b[43mbackbone\u001b[49m\u001b[43m(\u001b[49m\u001b[43mbackbone_name\u001b[49m\u001b[43m)\u001b[49m\u001b[38;5;241m.\u001b[39mcustom_objects)\n",
      "File \u001b[1;32mc:\\Users\\kubra\\OneDrive\\Masaüstü\\Obje_Tanıma\\ilk_denemeler\\keras-retinanet\\keras_retinanet\\models\\__init__.py:57\u001b[0m, in \u001b[0;36mbackbone\u001b[1;34m(backbone_name)\u001b[0m\n\u001b[0;32m     55\u001b[0m     \u001b[38;5;28;01mfrom\u001b[39;00m \u001b[38;5;21;01m.\u001b[39;00m\u001b[38;5;21;01msenet\u001b[39;00m \u001b[38;5;28;01mimport\u001b[39;00m SeBackbone \u001b[38;5;28;01mas\u001b[39;00m b\n\u001b[0;32m     56\u001b[0m \u001b[38;5;28;01melif\u001b[39;00m \u001b[38;5;124m'\u001b[39m\u001b[38;5;124mresnet\u001b[39m\u001b[38;5;124m'\u001b[39m \u001b[38;5;129;01min\u001b[39;00m backbone_name:\n\u001b[1;32m---> 57\u001b[0m     \u001b[38;5;28;01mfrom\u001b[39;00m \u001b[38;5;21;01m.\u001b[39;00m\u001b[38;5;21;01mresnet\u001b[39;00m \u001b[38;5;28;01mimport\u001b[39;00m ResNetBackbone \u001b[38;5;28;01mas\u001b[39;00m b\n\u001b[0;32m     58\u001b[0m \u001b[38;5;28;01melif\u001b[39;00m \u001b[38;5;124m'\u001b[39m\u001b[38;5;124mmobilenet\u001b[39m\u001b[38;5;124m'\u001b[39m \u001b[38;5;129;01min\u001b[39;00m backbone_name:\n\u001b[0;32m     59\u001b[0m     \u001b[38;5;28;01mfrom\u001b[39;00m \u001b[38;5;21;01m.\u001b[39;00m\u001b[38;5;21;01mmobilenet\u001b[39;00m \u001b[38;5;28;01mimport\u001b[39;00m MobileNetBackbone \u001b[38;5;28;01mas\u001b[39;00m b\n",
      "File \u001b[1;32mc:\\Users\\kubra\\OneDrive\\Masaüstü\\Obje_Tanıma\\ilk_denemeler\\keras-retinanet\\keras_retinanet\\models\\resnet.py:21\u001b[0m\n\u001b[0;32m     18\u001b[0m \u001b[38;5;28;01mimport\u001b[39;00m \u001b[38;5;21;01mkeras_resnet\u001b[39;00m\n\u001b[0;32m     19\u001b[0m \u001b[38;5;28;01mimport\u001b[39;00m \u001b[38;5;21;01mkeras_resnet\u001b[39;00m\u001b[38;5;21;01m.\u001b[39;00m\u001b[38;5;21;01mmodels\u001b[39;00m\n\u001b[1;32m---> 21\u001b[0m \u001b[38;5;28;01mfrom\u001b[39;00m \u001b[38;5;21;01m.\u001b[39;00m \u001b[38;5;28;01mimport\u001b[39;00m retinanet\n\u001b[0;32m     22\u001b[0m \u001b[38;5;28;01mfrom\u001b[39;00m \u001b[38;5;21;01m.\u001b[39;00m \u001b[38;5;28;01mimport\u001b[39;00m Backbone\n\u001b[0;32m     23\u001b[0m \u001b[38;5;28;01mfrom\u001b[39;00m \u001b[38;5;21;01m.\u001b[39;00m\u001b[38;5;21;01m.\u001b[39;00m\u001b[38;5;21;01mutils\u001b[39;00m\u001b[38;5;21;01m.\u001b[39;00m\u001b[38;5;21;01mimage\u001b[39;00m \u001b[38;5;28;01mimport\u001b[39;00m preprocess_image\n",
      "File \u001b[1;32mc:\\Users\\kubra\\OneDrive\\Masaüstü\\Obje_Tanıma\\ilk_denemeler\\keras-retinanet\\keras_retinanet\\models\\retinanet.py:19\u001b[0m\n\u001b[0;32m     17\u001b[0m \u001b[38;5;28;01mfrom\u001b[39;00m \u001b[38;5;21;01mtensorflow\u001b[39;00m \u001b[38;5;28;01mimport\u001b[39;00m keras\n\u001b[0;32m     18\u001b[0m \u001b[38;5;28;01mfrom\u001b[39;00m \u001b[38;5;21;01m.\u001b[39;00m\u001b[38;5;21;01m.\u001b[39;00m \u001b[38;5;28;01mimport\u001b[39;00m initializers\n\u001b[1;32m---> 19\u001b[0m \u001b[38;5;28;01mfrom\u001b[39;00m \u001b[38;5;21;01m.\u001b[39;00m\u001b[38;5;21;01m.\u001b[39;00m \u001b[38;5;28;01mimport\u001b[39;00m layers\n\u001b[0;32m     20\u001b[0m \u001b[38;5;28;01mfrom\u001b[39;00m \u001b[38;5;21;01m.\u001b[39;00m\u001b[38;5;21;01m.\u001b[39;00m\u001b[38;5;21;01mutils\u001b[39;00m\u001b[38;5;21;01m.\u001b[39;00m\u001b[38;5;21;01manchors\u001b[39;00m \u001b[38;5;28;01mimport\u001b[39;00m AnchorParameters\n\u001b[0;32m     21\u001b[0m \u001b[38;5;28;01mfrom\u001b[39;00m \u001b[38;5;21;01m.\u001b[39;00m \u001b[38;5;28;01mimport\u001b[39;00m assert_training_model\n",
      "File \u001b[1;32mc:\\Users\\kubra\\OneDrive\\Masaüstü\\Obje_Tanıma\\ilk_denemeler\\keras-retinanet\\keras_retinanet\\layers\\__init__.py:1\u001b[0m\n\u001b[1;32m----> 1\u001b[0m \u001b[38;5;28;01mfrom\u001b[39;00m \u001b[38;5;21;01m.\u001b[39;00m\u001b[38;5;21;01m_misc\u001b[39;00m \u001b[38;5;28;01mimport\u001b[39;00m RegressBoxes, UpsampleLike, Anchors, ClipBoxes  \u001b[38;5;66;03m# noqa: F401\u001b[39;00m\n\u001b[0;32m      2\u001b[0m \u001b[38;5;28;01mfrom\u001b[39;00m \u001b[38;5;21;01m.\u001b[39;00m\u001b[38;5;21;01mfilter_detections\u001b[39;00m \u001b[38;5;28;01mimport\u001b[39;00m FilterDetections  \u001b[38;5;66;03m# noqa: F401\u001b[39;00m\n",
      "File \u001b[1;32mc:\\Users\\kubra\\OneDrive\\Masaüstü\\Obje_Tanıma\\ilk_denemeler\\keras-retinanet\\keras_retinanet\\layers\\_misc.py:20\u001b[0m\n\u001b[0;32m     18\u001b[0m \u001b[38;5;28;01mfrom\u001b[39;00m \u001b[38;5;21;01mtensorflow\u001b[39;00m \u001b[38;5;28;01mimport\u001b[39;00m keras\n\u001b[0;32m     19\u001b[0m \u001b[38;5;28;01mfrom\u001b[39;00m \u001b[38;5;21;01m.\u001b[39;00m\u001b[38;5;21;01m.\u001b[39;00m \u001b[38;5;28;01mimport\u001b[39;00m backend\n\u001b[1;32m---> 20\u001b[0m \u001b[38;5;28;01mfrom\u001b[39;00m \u001b[38;5;21;01m.\u001b[39;00m\u001b[38;5;21;01m.\u001b[39;00m\u001b[38;5;21;01mutils\u001b[39;00m \u001b[38;5;28;01mimport\u001b[39;00m anchors \u001b[38;5;28;01mas\u001b[39;00m utils_anchors\n\u001b[0;32m     22\u001b[0m \u001b[38;5;28;01mimport\u001b[39;00m \u001b[38;5;21;01mnumpy\u001b[39;00m \u001b[38;5;28;01mas\u001b[39;00m \u001b[38;5;21;01mnp\u001b[39;00m\n\u001b[0;32m     25\u001b[0m \u001b[38;5;28;01mclass\u001b[39;00m \u001b[38;5;21;01mAnchors\u001b[39;00m(keras\u001b[38;5;241m.\u001b[39mlayers\u001b[38;5;241m.\u001b[39mLayer):\n",
      "File \u001b[1;32mc:\\Users\\kubra\\OneDrive\\Masaüstü\\Obje_Tanıma\\ilk_denemeler\\keras-retinanet\\keras_retinanet\\utils\\anchors.py:20\u001b[0m\n\u001b[0;32m     17\u001b[0m \u001b[38;5;28;01mimport\u001b[39;00m \u001b[38;5;21;01mnumpy\u001b[39;00m \u001b[38;5;28;01mas\u001b[39;00m \u001b[38;5;21;01mnp\u001b[39;00m\n\u001b[0;32m     18\u001b[0m \u001b[38;5;28;01mfrom\u001b[39;00m \u001b[38;5;21;01mtensorflow\u001b[39;00m \u001b[38;5;28;01mimport\u001b[39;00m keras\n\u001b[1;32m---> 20\u001b[0m \u001b[38;5;28;01mfrom\u001b[39;00m \u001b[38;5;21;01m.\u001b[39;00m\u001b[38;5;21;01m.\u001b[39;00m\u001b[38;5;21;01mutils\u001b[39;00m\u001b[38;5;21;01m.\u001b[39;00m\u001b[38;5;21;01mcompute_overlap\u001b[39;00m \u001b[38;5;28;01mimport\u001b[39;00m compute_overlap\n\u001b[0;32m     23\u001b[0m \u001b[38;5;28;01mclass\u001b[39;00m \u001b[38;5;21;01mAnchorParameters\u001b[39;00m:\n\u001b[0;32m     24\u001b[0m \u001b[38;5;250m    \u001b[39m\u001b[38;5;124;03m\"\"\" The parameteres that define how anchors are generated.\u001b[39;00m\n\u001b[0;32m     25\u001b[0m \n\u001b[0;32m     26\u001b[0m \u001b[38;5;124;03m    Args\u001b[39;00m\n\u001b[1;32m   (...)\u001b[0m\n\u001b[0;32m     30\u001b[0m \u001b[38;5;124;03m        scales  : List of scales to use per location in a feature map.\u001b[39;00m\n\u001b[0;32m     31\u001b[0m \u001b[38;5;124;03m    \"\"\"\u001b[39;00m\n",
      "\u001b[1;31mModuleNotFoundError\u001b[0m: No module named 'keras_retinanet.utils.compute_overlap'"
     ]
    }
   ],
   "source": [
    "from keras_retinanet import models\n",
    "\n",
    "model = models.load_model(pretreined_model_name,backbone_name= backbone_name)"
   ]
  },
  {
   "cell_type": "code",
   "execution_count": null,
   "metadata": {},
   "outputs": [
    {
     "data": {
      "text/plain": [
       "('pretrained_model.h5', <http.client.HTTPMessage at 0x28192cd98b0>)"
      ]
     },
     "execution_count": 3,
     "metadata": {},
     "output_type": "execute_result"
    }
   ],
   "source": [
    "\n",
    "urllib.request.urlretrieve( #linkten eğitilmiş ağırlıkları çekiyoruz\n",
    "    pretrained_base_url+\n",
    "    pretreined_model_name,\n",
    "    \"pretrained_model.h5\"\n",
    ")"
   ]
  },
  {
   "cell_type": "code",
   "execution_count": null,
   "metadata": {},
   "outputs": [
    {
     "name": "stdout",
     "output_type": "stream",
     "text": [
      "Requirement already satisfied: keras-resnet in c:\\users\\kubra\\appdata\\local\\programs\\python\\python312\\lib\\site-packages (0.2.0)\n",
      "Requirement already satisfied: keras>=2.2.4 in c:\\users\\kubra\\appdata\\local\\programs\\python\\python312\\lib\\site-packages (from keras-resnet) (3.3.3)\n",
      "Requirement already satisfied: absl-py in c:\\users\\kubra\\appdata\\local\\programs\\python\\python312\\lib\\site-packages (from keras>=2.2.4->keras-resnet) (2.1.0)\n",
      "Requirement already satisfied: numpy in c:\\users\\kubra\\appdata\\local\\programs\\python\\python312\\lib\\site-packages (from keras>=2.2.4->keras-resnet) (1.26.4)\n",
      "Requirement already satisfied: rich in c:\\users\\kubra\\appdata\\local\\programs\\python\\python312\\lib\\site-packages (from keras>=2.2.4->keras-resnet) (13.7.1)\n",
      "Requirement already satisfied: namex in c:\\users\\kubra\\appdata\\local\\programs\\python\\python312\\lib\\site-packages (from keras>=2.2.4->keras-resnet) (0.0.8)\n",
      "Requirement already satisfied: h5py in c:\\users\\kubra\\appdata\\local\\programs\\python\\python312\\lib\\site-packages (from keras>=2.2.4->keras-resnet) (3.11.0)\n",
      "Requirement already satisfied: optree in c:\\users\\kubra\\appdata\\local\\programs\\python\\python312\\lib\\site-packages (from keras>=2.2.4->keras-resnet) (0.11.0)\n",
      "Requirement already satisfied: ml-dtypes in c:\\users\\kubra\\appdata\\local\\programs\\python\\python312\\lib\\site-packages (from keras>=2.2.4->keras-resnet) (0.3.2)\n",
      "Requirement already satisfied: typing-extensions>=4.0.0 in c:\\users\\kubra\\appdata\\local\\programs\\python\\python312\\lib\\site-packages (from optree->keras>=2.2.4->keras-resnet) (4.9.0)\n",
      "Requirement already satisfied: markdown-it-py>=2.2.0 in c:\\users\\kubra\\appdata\\local\\programs\\python\\python312\\lib\\site-packages (from rich->keras>=2.2.4->keras-resnet) (3.0.0)\n",
      "Requirement already satisfied: pygments<3.0.0,>=2.13.0 in c:\\users\\kubra\\appdata\\roaming\\python\\python312\\site-packages (from rich->keras>=2.2.4->keras-resnet) (2.17.2)\n",
      "Requirement already satisfied: mdurl~=0.1 in c:\\users\\kubra\\appdata\\local\\programs\\python\\python312\\lib\\site-packages (from markdown-it-py>=2.2.0->rich->keras>=2.2.4->keras-resnet) (0.1.2)\n"
     ]
    }
   ],
   "source": [
    "!pip install keras-resnet"
   ]
  },
  {
   "cell_type": "code",
   "execution_count": null,
   "metadata": {},
   "outputs": [
    {
     "ename": "ModuleNotFoundError",
     "evalue": "No module named 'keras_retinanet.utils.compute_overlap'",
     "output_type": "error",
     "traceback": [
      "\u001b[1;31m---------------------------------------------------------------------------\u001b[0m",
      "\u001b[1;31mModuleNotFoundError\u001b[0m                       Traceback (most recent call last)",
      "Cell \u001b[1;32mIn[5], line 1\u001b[0m\n\u001b[1;32m----> 1\u001b[0m model \u001b[38;5;241m=\u001b[39m \u001b[43mmodels\u001b[49m\u001b[38;5;241;43m.\u001b[39;49m\u001b[43mload_model\u001b[49m\u001b[43m(\u001b[49m\u001b[38;5;124;43m\"\u001b[39;49m\u001b[38;5;124;43mpretrained_model.h5\u001b[39;49m\u001b[38;5;124;43m\"\u001b[39;49m\u001b[43m)\u001b[49m\n",
      "File \u001b[1;32mc:\\Users\\kubra\\OneDrive\\Masaüstü\\Obje_Tanıma\\ilk_denemeler\\keras_retinanet\\models\\__init__.py:87\u001b[0m, in \u001b[0;36mload_model\u001b[1;34m(filepath, backbone_name)\u001b[0m\n\u001b[0;32m     71\u001b[0m \u001b[38;5;250m\u001b[39m\u001b[38;5;124;03m\"\"\" Loads a retinanet model using the correct custom objects.\u001b[39;00m\n\u001b[0;32m     72\u001b[0m \n\u001b[0;32m     73\u001b[0m \u001b[38;5;124;03mArgs\u001b[39;00m\n\u001b[1;32m   (...)\u001b[0m\n\u001b[0;32m     84\u001b[0m \u001b[38;5;124;03m    ValueError: In case of an invalid savefile.\u001b[39;00m\n\u001b[0;32m     85\u001b[0m \u001b[38;5;124;03m\"\"\"\u001b[39;00m\n\u001b[0;32m     86\u001b[0m \u001b[38;5;28;01mfrom\u001b[39;00m \u001b[38;5;21;01mtensorflow\u001b[39;00m \u001b[38;5;28;01mimport\u001b[39;00m keras\n\u001b[1;32m---> 87\u001b[0m \u001b[38;5;28;01mreturn\u001b[39;00m keras\u001b[38;5;241m.\u001b[39mmodels\u001b[38;5;241m.\u001b[39mload_model(filepath, custom_objects\u001b[38;5;241m=\u001b[39m\u001b[43mbackbone\u001b[49m\u001b[43m(\u001b[49m\u001b[43mbackbone_name\u001b[49m\u001b[43m)\u001b[49m\u001b[38;5;241m.\u001b[39mcustom_objects)\n",
      "File \u001b[1;32mc:\\Users\\kubra\\OneDrive\\Masaüstü\\Obje_Tanıma\\ilk_denemeler\\keras_retinanet\\models\\__init__.py:57\u001b[0m, in \u001b[0;36mbackbone\u001b[1;34m(backbone_name)\u001b[0m\n\u001b[0;32m     55\u001b[0m     \u001b[38;5;28;01mfrom\u001b[39;00m \u001b[38;5;21;01m.\u001b[39;00m\u001b[38;5;21;01msenet\u001b[39;00m \u001b[38;5;28;01mimport\u001b[39;00m SeBackbone \u001b[38;5;28;01mas\u001b[39;00m b\n\u001b[0;32m     56\u001b[0m \u001b[38;5;28;01melif\u001b[39;00m \u001b[38;5;124m'\u001b[39m\u001b[38;5;124mresnet\u001b[39m\u001b[38;5;124m'\u001b[39m \u001b[38;5;129;01min\u001b[39;00m backbone_name:\n\u001b[1;32m---> 57\u001b[0m     \u001b[38;5;28;01mfrom\u001b[39;00m \u001b[38;5;21;01m.\u001b[39;00m\u001b[38;5;21;01mresnet\u001b[39;00m \u001b[38;5;28;01mimport\u001b[39;00m ResNetBackbone \u001b[38;5;28;01mas\u001b[39;00m b\n\u001b[0;32m     58\u001b[0m \u001b[38;5;28;01melif\u001b[39;00m \u001b[38;5;124m'\u001b[39m\u001b[38;5;124mmobilenet\u001b[39m\u001b[38;5;124m'\u001b[39m \u001b[38;5;129;01min\u001b[39;00m backbone_name:\n\u001b[0;32m     59\u001b[0m     \u001b[38;5;28;01mfrom\u001b[39;00m \u001b[38;5;21;01m.\u001b[39;00m\u001b[38;5;21;01mmobilenet\u001b[39;00m \u001b[38;5;28;01mimport\u001b[39;00m MobileNetBackbone \u001b[38;5;28;01mas\u001b[39;00m b\n",
      "File \u001b[1;32mc:\\Users\\kubra\\OneDrive\\Masaüstü\\Obje_Tanıma\\ilk_denemeler\\keras_retinanet\\models\\resnet.py:21\u001b[0m\n\u001b[0;32m     18\u001b[0m \u001b[38;5;28;01mimport\u001b[39;00m \u001b[38;5;21;01mkeras_resnet\u001b[39;00m\n\u001b[0;32m     19\u001b[0m \u001b[38;5;28;01mimport\u001b[39;00m \u001b[38;5;21;01mkeras_resnet\u001b[39;00m\u001b[38;5;21;01m.\u001b[39;00m\u001b[38;5;21;01mmodels\u001b[39;00m\n\u001b[1;32m---> 21\u001b[0m \u001b[38;5;28;01mfrom\u001b[39;00m \u001b[38;5;21;01m.\u001b[39;00m \u001b[38;5;28;01mimport\u001b[39;00m retinanet\n\u001b[0;32m     22\u001b[0m \u001b[38;5;28;01mfrom\u001b[39;00m \u001b[38;5;21;01m.\u001b[39;00m \u001b[38;5;28;01mimport\u001b[39;00m Backbone\n\u001b[0;32m     23\u001b[0m \u001b[38;5;28;01mfrom\u001b[39;00m \u001b[38;5;21;01m.\u001b[39;00m\u001b[38;5;21;01m.\u001b[39;00m\u001b[38;5;21;01mutils\u001b[39;00m\u001b[38;5;21;01m.\u001b[39;00m\u001b[38;5;21;01mimage\u001b[39;00m \u001b[38;5;28;01mimport\u001b[39;00m preprocess_image\n",
      "File \u001b[1;32mc:\\Users\\kubra\\OneDrive\\Masaüstü\\Obje_Tanıma\\ilk_denemeler\\keras_retinanet\\models\\retinanet.py:19\u001b[0m\n\u001b[0;32m     17\u001b[0m \u001b[38;5;28;01mfrom\u001b[39;00m \u001b[38;5;21;01mtensorflow\u001b[39;00m \u001b[38;5;28;01mimport\u001b[39;00m keras\n\u001b[0;32m     18\u001b[0m \u001b[38;5;28;01mfrom\u001b[39;00m \u001b[38;5;21;01m.\u001b[39;00m\u001b[38;5;21;01m.\u001b[39;00m \u001b[38;5;28;01mimport\u001b[39;00m initializers\n\u001b[1;32m---> 19\u001b[0m \u001b[38;5;28;01mfrom\u001b[39;00m \u001b[38;5;21;01m.\u001b[39;00m\u001b[38;5;21;01m.\u001b[39;00m \u001b[38;5;28;01mimport\u001b[39;00m layers\n\u001b[0;32m     20\u001b[0m \u001b[38;5;28;01mfrom\u001b[39;00m \u001b[38;5;21;01m.\u001b[39;00m\u001b[38;5;21;01m.\u001b[39;00m\u001b[38;5;21;01mutils\u001b[39;00m\u001b[38;5;21;01m.\u001b[39;00m\u001b[38;5;21;01manchors\u001b[39;00m \u001b[38;5;28;01mimport\u001b[39;00m AnchorParameters\n\u001b[0;32m     21\u001b[0m \u001b[38;5;28;01mfrom\u001b[39;00m \u001b[38;5;21;01m.\u001b[39;00m \u001b[38;5;28;01mimport\u001b[39;00m assert_training_model\n",
      "File \u001b[1;32mc:\\Users\\kubra\\OneDrive\\Masaüstü\\Obje_Tanıma\\ilk_denemeler\\keras_retinanet\\layers\\__init__.py:1\u001b[0m\n\u001b[1;32m----> 1\u001b[0m \u001b[38;5;28;01mfrom\u001b[39;00m \u001b[38;5;21;01m.\u001b[39;00m\u001b[38;5;21;01m_misc\u001b[39;00m \u001b[38;5;28;01mimport\u001b[39;00m RegressBoxes, UpsampleLike, Anchors, ClipBoxes  \u001b[38;5;66;03m# noqa: F401\u001b[39;00m\n\u001b[0;32m      2\u001b[0m \u001b[38;5;28;01mfrom\u001b[39;00m \u001b[38;5;21;01m.\u001b[39;00m\u001b[38;5;21;01mfilter_detections\u001b[39;00m \u001b[38;5;28;01mimport\u001b[39;00m FilterDetections  \u001b[38;5;66;03m# noqa: F401\u001b[39;00m\n",
      "File \u001b[1;32mc:\\Users\\kubra\\OneDrive\\Masaüstü\\Obje_Tanıma\\ilk_denemeler\\keras_retinanet\\layers\\_misc.py:20\u001b[0m\n\u001b[0;32m     18\u001b[0m \u001b[38;5;28;01mfrom\u001b[39;00m \u001b[38;5;21;01mtensorflow\u001b[39;00m \u001b[38;5;28;01mimport\u001b[39;00m keras\n\u001b[0;32m     19\u001b[0m \u001b[38;5;28;01mfrom\u001b[39;00m \u001b[38;5;21;01m.\u001b[39;00m\u001b[38;5;21;01m.\u001b[39;00m \u001b[38;5;28;01mimport\u001b[39;00m backend\n\u001b[1;32m---> 20\u001b[0m \u001b[38;5;28;01mfrom\u001b[39;00m \u001b[38;5;21;01m.\u001b[39;00m\u001b[38;5;21;01m.\u001b[39;00m\u001b[38;5;21;01mutils\u001b[39;00m \u001b[38;5;28;01mimport\u001b[39;00m anchors \u001b[38;5;28;01mas\u001b[39;00m utils_anchors\n\u001b[0;32m     22\u001b[0m \u001b[38;5;28;01mimport\u001b[39;00m \u001b[38;5;21;01mnumpy\u001b[39;00m \u001b[38;5;28;01mas\u001b[39;00m \u001b[38;5;21;01mnp\u001b[39;00m\n\u001b[0;32m     25\u001b[0m \u001b[38;5;28;01mclass\u001b[39;00m \u001b[38;5;21;01mAnchors\u001b[39;00m(keras\u001b[38;5;241m.\u001b[39mlayers\u001b[38;5;241m.\u001b[39mLayer):\n",
      "File \u001b[1;32mc:\\Users\\kubra\\OneDrive\\Masaüstü\\Obje_Tanıma\\ilk_denemeler\\keras_retinanet\\utils\\anchors.py:20\u001b[0m\n\u001b[0;32m     17\u001b[0m \u001b[38;5;28;01mimport\u001b[39;00m \u001b[38;5;21;01mnumpy\u001b[39;00m \u001b[38;5;28;01mas\u001b[39;00m \u001b[38;5;21;01mnp\u001b[39;00m\n\u001b[0;32m     18\u001b[0m \u001b[38;5;28;01mfrom\u001b[39;00m \u001b[38;5;21;01mtensorflow\u001b[39;00m \u001b[38;5;28;01mimport\u001b[39;00m keras\n\u001b[1;32m---> 20\u001b[0m \u001b[38;5;28;01mfrom\u001b[39;00m \u001b[38;5;21;01m.\u001b[39;00m\u001b[38;5;21;01m.\u001b[39;00m\u001b[38;5;21;01mutils\u001b[39;00m\u001b[38;5;21;01m.\u001b[39;00m\u001b[38;5;21;01mcompute_overlap\u001b[39;00m \u001b[38;5;28;01mimport\u001b[39;00m compute_overlap\n\u001b[0;32m     23\u001b[0m \u001b[38;5;28;01mclass\u001b[39;00m \u001b[38;5;21;01mAnchorParameters\u001b[39;00m:\n\u001b[0;32m     24\u001b[0m \u001b[38;5;250m    \u001b[39m\u001b[38;5;124;03m\"\"\" The parameteres that define how anchors are generated.\u001b[39;00m\n\u001b[0;32m     25\u001b[0m \n\u001b[0;32m     26\u001b[0m \u001b[38;5;124;03m    Args\u001b[39;00m\n\u001b[1;32m   (...)\u001b[0m\n\u001b[0;32m     30\u001b[0m \u001b[38;5;124;03m        scales  : List of scales to use per location in a feature map.\u001b[39;00m\n\u001b[0;32m     31\u001b[0m \u001b[38;5;124;03m    \"\"\"\u001b[39;00m\n",
      "\u001b[1;31mModuleNotFoundError\u001b[0m: No module named 'keras_retinanet.utils.compute_overlap'"
     ]
    }
   ],
   "source": [
    "model = models.load_model(\"pretrained_model.h5\")"
   ]
  },
  {
   "cell_type": "code",
   "execution_count": null,
   "metadata": {},
   "outputs": [],
   "source": []
  }
 ],
 "metadata": {
  "kernelspec": {
   "display_name": "Python 3",
   "language": "python",
   "name": "python3"
  },
  "language_info": {
   "codemirror_mode": {
    "name": "ipython",
    "version": 3
   },
   "file_extension": ".py",
   "mimetype": "text/x-python",
   "name": "python",
   "nbconvert_exporter": "python",
   "pygments_lexer": "ipython3",
   "version": "3.12.3"
  }
 },
 "nbformat": 4,
 "nbformat_minor": 2
}
